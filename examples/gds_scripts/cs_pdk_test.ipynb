{
 "cells": [
  {
   "cell_type": "code",
   "execution_count": null,
   "id": "40f4ee72-4998-4dc5-9cc5-c3a24aad615e",
   "metadata": {},
   "outputs": [],
   "source": [
    "import numpy as np\n",
    "import gdsfactory as gf\n",
    "import gdsfactory.components as pdk\n",
    "import cornerstone_pdk as cs_pdk"
   ]
  },
  {
   "cell_type": "code",
   "execution_count": null,
   "id": "e1632901-bbd3-46e9-b1f0-17b3b6ba3d17",
   "metadata": {},
   "outputs": [],
   "source": [
    "c = gf.Component('TOP') \n",
    "\n",
    "mmi1x2 = c << cs_pdk.mmi1x2_cornerstone_pdk()\n",
    "mmi1x2.movey(-5)\n",
    "\n",
    "mmi2x2 = c << cs_pdk.mmi2x2_cornerstone_pdk()\n",
    "mmi2x2.movey(5)\n",
    "\n",
    "x = c << cs_pdk.crossing_cornerstone_pdk()\n",
    "x.movey(15)\n",
    "\n",
    "c.plot()"
   ]
  },
  {
   "cell_type": "code",
   "execution_count": null,
   "id": "dcc953c6-7586-41a5-b2a7-51736cee6526",
   "metadata": {},
   "outputs": [],
   "source": [
    "gc1 = c << cs_pdk.gc_focusing_cornerstone_pdk()\n",
    "gc1.movey(-25)\n",
    "c.plot()"
   ]
  },
  {
   "cell_type": "code",
   "execution_count": null,
   "id": "07930fad-86e5-482b-96d2-e8e16830f291",
   "metadata": {},
   "outputs": [],
   "source": [
    "gc2 = c << cs_pdk.gc_cornerstone_pdk()\n",
    "gc2.movey(-45)\n",
    "c.plot()"
   ]
  },
  {
   "cell_type": "code",
   "execution_count": null,
   "id": "d69eb0e2-1793-4fa3-a97a-f8a880eeeca5",
   "metadata": {},
   "outputs": [],
   "source": []
  }
 ],
 "metadata": {
  "kernelspec": {
   "display_name": "Python 3 (ipykernel)",
   "language": "python",
   "name": "python3"
  },
  "language_info": {
   "codemirror_mode": {
    "name": "ipython",
    "version": 3
   },
   "file_extension": ".py",
   "mimetype": "text/x-python",
   "name": "python",
   "nbconvert_exporter": "python",
   "pygments_lexer": "ipython3",
   "version": "3.11.5"
  }
 },
 "nbformat": 4,
 "nbformat_minor": 5
}
