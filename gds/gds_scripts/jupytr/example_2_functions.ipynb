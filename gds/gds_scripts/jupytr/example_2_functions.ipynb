{
 "cells": [
  {
   "cell_type": "code",
   "execution_count": null,
   "metadata": {},
   "outputs": [],
   "source": [
    "import numpy as np\n",
    "import gdsfactory as gf\n",
    "import gdsfactory.components as pdk"
   ]
  },
  {
   "cell_type": "markdown",
   "metadata": {},
   "source": [
    "### Define a function which creates a component"
   ]
  },
  {
   "cell_type": "code",
   "execution_count": null,
   "metadata": {},
   "outputs": [],
   "source": [
    "@gf.cell\n",
    "def grating_test_struc(period: float = 0.5, ff: float = 0.5, wg_width: float = 0.8, fiber_spacing: float = 127.0):\n",
    "    c = gf.Component('Grating Test Structure')\n",
    "    wgx = gf.cross_section.cross_section(width=wg_width, radius=25.0, layer=(1,0))\n",
    "    taper_angle = 30\n",
    "\n",
    "    gc = pdk.grating_coupler_elliptical_uniform(period=period, \n",
    "                                                fill_factor=ff, \n",
    "                                                taper_angle=taper_angle,\n",
    "                                                cross_section=wgx)\n",
    "    \n",
    "    gc1 = c << gc\n",
    "    gc2 = c << gc\n",
    "\n",
    "    gc1.drotate(-90)\n",
    "    gc2.drotate(-90)\n",
    "    gc2.dmovex(fiber_spacing)\n",
    "\n",
    "    route = gf.routing.route_single(c, \n",
    "                                    port1=gc1.ports['o1'], \n",
    "                                    port2=gc2.ports['o1'],\n",
    "                                    cross_section=wgx)\n",
    "\n",
    "    return c"
   ]
  },
  {
   "cell_type": "code",
   "execution_count": null,
   "metadata": {},
   "outputs": [],
   "source": [
    "## Test function is working\n",
    "c = gf.Component()\n",
    "\n",
    "gc_test = c << grating_test_struc()\n",
    "c.plot()"
   ]
  },
  {
   "cell_type": "markdown",
   "metadata": {},
   "source": [
    "### Create array of grating couplers to test"
   ]
  },
  {
   "cell_type": "code",
   "execution_count": null,
   "metadata": {},
   "outputs": [],
   "source": [
    "## create grating coupler array which sweeps period and fill factor\n",
    "period_list = np.linspace(0.35, 0.65, 10)\n",
    "ff_list = np.linspace(0.4, 0.8, 10)\n",
    "\n",
    "# empty list to add components to\n",
    "components_list = []\n",
    "\n",
    "# fill list with grating coupler test structures\n",
    "for period in period_list:\n",
    "    for ff in ff_list:\n",
    "        D = grating_test_struc(period=period, ff=ff)\n",
    "        components_list.append(D)\n",
    "\n",
    "# place list of components into uniformly spaced grid\n",
    "c = gf.grid(\n",
    "    tuple(components_list),\n",
    "    spacing=(25, 25),\n",
    "    shape=(10, 10)\n",
    ")\n",
    "\n",
    "c.plot()"
   ]
  },
  {
   "cell_type": "code",
   "execution_count": null,
   "metadata": {},
   "outputs": [],
   "source": [
    "# create a new grid with text labels\n",
    "c = gf.grid_with_text(\n",
    "    tuple(components_list),\n",
    "    text=gf.partial(pdk.text, size=10, justify=\"center\"),\n",
    "    spacing=(25, 25),\n",
    "    shape=(10, 10)\n",
    ")\n",
    "\n",
    "c.plot()"
   ]
  }
 ],
 "metadata": {
  "kernelspec": {
   "display_name": "Python 3 (ipykernel)",
   "language": "python",
   "name": "python3"
  },
  "language_info": {
   "codemirror_mode": {
    "name": "ipython",
    "version": 3
   },
   "file_extension": ".py",
   "mimetype": "text/x-python",
   "name": "python",
   "nbconvert_exporter": "python",
   "pygments_lexer": "ipython3",
   "version": "3.11.5"
  }
 },
 "nbformat": 4,
 "nbformat_minor": 4
}
