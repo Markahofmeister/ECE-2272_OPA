{
 "cells": [
  {
   "cell_type": "code",
   "execution_count": null,
   "metadata": {},
   "outputs": [],
   "source": [
    "import numpy as np\n",
    "import gdsfactory as gf\n",
    "import gdsfactory.components as pdk"
   ]
  },
  {
   "cell_type": "markdown",
   "metadata": {},
   "source": [
    "### Using ports to route waveguides"
   ]
  },
  {
   "cell_type": "code",
   "execution_count": null,
   "metadata": {},
   "outputs": [],
   "source": [
    "c = gf.Component()\n",
    "\n",
    "# create two grating couplers\n",
    "gc_rect = c << pdk.grating_coupler_rectangular()\n",
    "gc_te = c << pdk.grating_coupler_elliptical()\n",
    "gc_te.dmovey(50)\n",
    "\n",
    "c.plot()"
   ]
  },
  {
   "cell_type": "code",
   "execution_count": null,
   "metadata": {},
   "outputs": [],
   "source": [
    "# add ports to view\n",
    "c.add_ports(gc_rect.ports, prefix='gc_rect_')\n",
    "c.add_ports(gc_te.ports, prefix='gc_te_')\n",
    "\n",
    "c.pprint_ports()\n",
    "c.draw_ports()\n",
    "c.plot()"
   ]
  },
  {
   "cell_type": "code",
   "execution_count": null,
   "metadata": {},
   "outputs": [],
   "source": [
    "# define input/output ports\n",
    "port1 = gc_rect.ports['o1']\n",
    "port2 = gc_te.ports['o1']\n",
    "\n",
    "# connect ports together using \"route_single\" function\n",
    "route = gf.routing.route_single(c, port1=port1, port2=port2, cross_section=\"strip\")\n",
    "\n",
    "c.plot()"
   ]
  },
  {
   "cell_type": "code",
   "execution_count": null,
   "metadata": {},
   "outputs": [],
   "source": [
    "# route from predefined steps instead\n",
    "c = gf.Component()\n",
    "\n",
    "gc_rect = c << pdk.grating_coupler_rectangular()\n",
    "gc_te = c << pdk.grating_coupler_elliptical()\n",
    "gc_te.dmovey(50)\n",
    "\n",
    "route_steps = gf.routing.route_single(c, port1=gc_rect.ports['o1'], port2=gc_te.ports['o1'],\n",
    "                                      cross_section='strip',\n",
    "                                      steps=[\n",
    "                                         {\"dx\": -20}, \n",
    "                                         {\"dy\": -20},\n",
    "                                         {\"dx\": -50},\n",
    "                                         {\"dy\": 100},\n",
    "                                         {\"dx\": 50},\n",
    "                                         {\"dy\": -30}\n",
    "                                             ])\n",
    "\n",
    "c.plot()"
   ]
  },
  {
   "cell_type": "markdown",
   "metadata": {},
   "source": [
    "### Fiber array routing example"
   ]
  },
  {
   "cell_type": "code",
   "execution_count": null,
   "metadata": {},
   "outputs": [],
   "source": [
    "# Define a 2x2 splitter\n",
    "mmi = pdk.mmi2x2_with_sbend()\n",
    "\n",
    "mmi.plot()"
   ]
  },
  {
   "cell_type": "code",
   "execution_count": null,
   "metadata": {},
   "outputs": [],
   "source": [
    "# Define grating coupler component\n",
    "gc = gf.partial(pdk.grating_coupler_elliptical_uniform, taper_angle=20, period=0.5)\n",
    "\n",
    "# Add fiber array to mmi using grating coupler defined above\n",
    "c2 = gf.routing.add_fiber_array(component=mmi, radius=10.0, grating_coupler=gc, fiber_spacing=150)\n",
    "c2.plot()"
   ]
  },
  {
   "cell_type": "code",
   "execution_count": null,
   "metadata": {},
   "outputs": [],
   "source": [
    "# Add same fiber array but without loopback\n",
    "c2 = gf.routing.add_fiber_array(component=mmi, radius=10.0, grating_coupler=gc, fiber_spacing=150, with_loopback=False)\n",
    "c2.plot()"
   ]
  },
  {
   "cell_type": "code",
   "execution_count": null,
   "metadata": {},
   "outputs": [],
   "source": []
  }
 ],
 "metadata": {
  "kernelspec": {
   "display_name": "Python 3 (ipykernel)",
   "language": "python",
   "name": "python3"
  },
  "language_info": {
   "codemirror_mode": {
    "name": "ipython",
    "version": 3
   },
   "file_extension": ".py",
   "mimetype": "text/x-python",
   "name": "python",
   "nbconvert_exporter": "python",
   "pygments_lexer": "ipython3",
   "version": "3.11.5"
  }
 },
 "nbformat": 4,
 "nbformat_minor": 4
}
