{
 "cells": [
  {
   "cell_type": "markdown",
   "metadata": {},
   "source": [
    "### Import Python libraries"
   ]
  },
  {
   "cell_type": "code",
   "execution_count": null,
   "metadata": {},
   "outputs": [],
   "source": [
    "import numpy as np\n",
    "import matplotlib.pyplot as plt\n",
    "import gdsfactory as gf\n",
    "import gdsfactory.components as pdk"
   ]
  },
  {
   "cell_type": "markdown",
   "metadata": {},
   "source": [
    "### Create waveguide elements from components"
   ]
  },
  {
   "cell_type": "code",
   "execution_count": null,
   "metadata": {},
   "outputs": [],
   "source": [
    "# create a Component object to add components to\n",
    "c = gf.Component()\n",
    "\n",
    "# waveguide with 25 um length and 750 nm width:\n",
    "wg1 = c << pdk.straight(length=25, width=0.75)\n",
    "\n",
    "# display components added to c\n",
    "c.plot()"
   ]
  },
  {
   "cell_type": "code",
   "execution_count": null,
   "metadata": {},
   "outputs": [],
   "source": [
    "# add circular bend to c\n",
    "b1 = c << pdk.bend_circular(radius=15, width=0.75)\n",
    "\n",
    "# move by 10 um in the y-direction\n",
    "b1.dmovey(10)\n",
    "\n",
    "c.plot()"
   ]
  },
  {
   "cell_type": "code",
   "execution_count": null,
   "metadata": {},
   "outputs": [],
   "source": [
    "# add another bend\n",
    "b2 = c << pdk.bend_euler(radius=20, width=0.75)\n",
    "\n",
    "# mirror bend wrt x-axis\n",
    "b2.dmirror_y()\n",
    "\n",
    "# move by -10 um in x-direction\n",
    "b2.dmovex(-10)\n",
    "\n",
    "c.plot()"
   ]
  },
  {
   "cell_type": "code",
   "execution_count": null,
   "metadata": {},
   "outputs": [],
   "source": [
    "# create a multi-mode interferometer component and move -5 um in the y-direction\n",
    "mmi = c << pdk.mmi1x2(width=0.75)\n",
    "mmi.dmovey(5)\n",
    "\n",
    "c.plot()"
   ]
  },
  {
   "cell_type": "code",
   "execution_count": null,
   "metadata": {},
   "outputs": [],
   "source": [
    "# display port names:\n",
    "mmi.ports.print()\n",
    "wg1.ports.print()\n",
    "b1.ports.print()"
   ]
  },
  {
   "cell_type": "code",
   "execution_count": null,
   "metadata": {},
   "outputs": [],
   "source": [
    "# Connect various components together using ports\n",
    "wg1.connect('o2', mmi.ports['o1'])\n",
    "b1.connect('o1', mmi.ports['o2'])\n",
    "b2.connect('o1', mmi.ports['o3'])\n",
    "\n",
    "c.plot()"
   ]
  },
  {
   "cell_type": "markdown",
   "metadata": {},
   "source": [
    "### Create waveguide from paths and cross sections"
   ]
  },
  {
   "cell_type": "code",
   "execution_count": null,
   "metadata": {},
   "outputs": [],
   "source": [
    "# create various path elements\n",
    "p1 = gf.path.straight(length=10)\n",
    "p2 = gf.path.arc(radius=20, angle=90)\n",
    "p3 = gf.path.euler(radius=10, angle=180)\n",
    "\n",
    "# combine into single path \"p\"\n",
    "p = p1 + p1 + p2 + p1 + p3 + p1\n",
    "\n",
    "p.plot()"
   ]
  },
  {
   "cell_type": "code",
   "execution_count": null,
   "metadata": {},
   "outputs": [],
   "source": [
    "# move and rotate p\n",
    "p.rotate(45)\n",
    "p.move([10, -20])\n",
    "\n",
    "p.plot()"
   ]
  },
  {
   "cell_type": "code",
   "execution_count": null,
   "metadata": {},
   "outputs": [],
   "source": [
    "# calculate path information\n",
    "print(p.length())\n",
    "\n",
    "s, K = p.curvature()\n",
    "plt.plot(s, K, \".-\")\n",
    "plt.xlabel(\"Position along curve (arc length)\")\n",
    "plt.ylabel(\"Curvature\")\n",
    "\n",
    "# note that plt is using the matplotlib library\n",
    "plt.plot()"
   ]
  },
  {
   "cell_type": "code",
   "execution_count": null,
   "metadata": {},
   "outputs": [],
   "source": [
    "# create three cross section definitions (waveguide and two metal layers):\n",
    "wgx = gf.Section(width=1, offset=0, layer=(1,0), port_names=(\"in\", \"out\"))\n",
    "m1x = gf.Section(width=3, offset=3, layer=(45, 0))\n",
    "m2x = gf.Section(width=3, offset=-3, layer=(49, 0))\n",
    "\n",
    "# combine into single cross section\n",
    "xs = gf.CrossSection(sections=[wgx, m1x, m2x])"
   ]
  },
  {
   "cell_type": "code",
   "execution_count": null,
   "metadata": {},
   "outputs": [],
   "source": [
    "# extrude cross section \"xs\" along the path \"p\" we created:\n",
    "c = gf.path.extrude(p, cross_section=xs)\n",
    "\n",
    "c.plot()"
   ]
  },
  {
   "cell_type": "code",
   "execution_count": null,
   "metadata": {},
   "outputs": [],
   "source": [
    "# create a new Component object \"c\" since we overwrote it\n",
    "c = gf.Component('TOP')\n",
    "\n",
    "# add extruded path as two references to \"c\"\n",
    "ref1 = c << gf.path.extrude(p, cross_section=xs)\n",
    "ref2 = c << gf.path.extrude(p, cross_section=xs)\n",
    "ref2.dmirror_x()\n",
    "\n",
    "c.plot()"
   ]
  },
  {
   "cell_type": "code",
   "execution_count": null,
   "metadata": {},
   "outputs": [],
   "source": [
    "## connect ports\n",
    "ref2.connect(\"in\", ref1.ports['in'])\n",
    "\n",
    "c.plot()"
   ]
  },
  {
   "cell_type": "code",
   "execution_count": null,
   "metadata": {},
   "outputs": [],
   "source": []
  }
 ],
 "metadata": {
  "kernelspec": {
   "display_name": "Python 3 (ipykernel)",
   "language": "python",
   "name": "python3"
  },
  "language_info": {
   "codemirror_mode": {
    "name": "ipython",
    "version": 3
   },
   "file_extension": ".py",
   "mimetype": "text/x-python",
   "name": "python",
   "nbconvert_exporter": "python",
   "pygments_lexer": "ipython3",
   "version": "3.11.5"
  }
 },
 "nbformat": 4,
 "nbformat_minor": 4
}
